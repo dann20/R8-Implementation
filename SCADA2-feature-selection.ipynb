{
 "cells": [
  {
   "cell_type": "code",
   "execution_count": 2,
   "id": "96fbf68f",
   "metadata": {},
   "outputs": [],
   "source": [
    "from sklearn.preprocessing import MinMaxScaler\n",
    "import numpy as np\n",
    "import pandas as pd\n",
    "import seaborn as sns\n",
    "from matplotlib import pyplot as plt"
   ]
  },
  {
   "cell_type": "code",
   "execution_count": 3,
   "id": "31e6109c",
   "metadata": {},
   "outputs": [
    {
     "name": "stdout",
     "output_type": "stream",
     "text": [
      "LOADING RAW DATASET.....\n",
      "DONE.\n"
     ]
    }
   ],
   "source": [
    "print('LOADING RAW DATASET.....')\n",
    "\n",
    "df = pd.read_excel('./prior_value_minmax_scada2.xlsx', engine='openpyxl')\n",
    "labels = df['binary result']\n",
    "drop_col = ['binary result', 'categorized result', 'specific result']\n",
    "df.drop(columns=drop_col, inplace=True)\n",
    "\n",
    "idx_split = -68658\n",
    "X_train = df[:idx_split]\n",
    "y_train = labels[:idx_split]\n",
    "X_test = df[idx_split:]\n",
    "y_test = labels[idx_split:]\n",
    "\n",
    "print('DONE.')"
   ]
  },
  {
   "cell_type": "code",
   "execution_count": 4,
   "id": "c0009a2e",
   "metadata": {},
   "outputs": [],
   "source": [
    "from sklearn.feature_selection import VarianceThreshold\n",
    "new_trainset = VarianceThreshold().fit_transform(X_train)"
   ]
  },
  {
   "cell_type": "code",
   "execution_count": 5,
   "id": "268d089c",
   "metadata": {},
   "outputs": [
    {
     "data": {
      "text/plain": [
       "(205970, 16)"
      ]
     },
     "execution_count": 5,
     "metadata": {},
     "output_type": "execute_result"
    }
   ],
   "source": [
    "new_trainset.shape"
   ]
  },
  {
   "cell_type": "code",
   "execution_count": 6,
   "id": "9523939d",
   "metadata": {},
   "outputs": [
    {
     "data": {
      "text/plain": [
       "(205970, 16)"
      ]
     },
     "execution_count": 6,
     "metadata": {},
     "output_type": "execute_result"
    }
   ],
   "source": [
    "X_train.shape"
   ]
  },
  {
   "cell_type": "code",
   "execution_count": 10,
   "id": "1162a7e2",
   "metadata": {},
   "outputs": [
    {
     "data": {
      "text/plain": [
       "<AxesSubplot:>"
      ]
     },
     "execution_count": 10,
     "metadata": {},
     "output_type": "execute_result"
    },
    {
     "data": {
      "image/png": "[encoded data removed]",
      "text/plain": [
       "<Figure size 432x288 with 2 Axes>"
      ]
     },
     "metadata": {
      "needs_background": "light"
     },
     "output_type": "display_data"
    }
   ],
   "source": [
    "corr = X_train.corr()\n",
    "sns.heatmap(corr)"
   ]
  },
  {
   "cell_type": "code",
   "execution_count": 12,
   "id": "92947e0f",
   "metadata": {},
   "outputs": [
    {
     "data": {
      "text/plain": [
       "Index(['address', 'function', 'length', 'setpoint', 'gain', 'reset rate',\n",
       "       'deadband', 'cycle time', 'rate', 'system mode', 'control scheme',\n",
       "       'pump', 'solenoid', 'pressure measurement', 'crc rate',\n",
       "       'command respond'],\n",
       "      dtype='object')"
      ]
     },
     "execution_count": 12,
     "metadata": {},
     "output_type": "execute_result"
    }
   ],
   "source": [
    "# Method 1\n",
    "columns = np.full((corr.shape[0],), True, dtype=bool)\n",
    "for i in range(corr.shape[0]):\n",
    "    for j in range(i+1, corr.shape[0]):\n",
    "        if abs(corr.iloc[i,j]) >= 0.85:\n",
    "            if columns[j]:\n",
    "                columns[j] = False\n",
    "selected_columns = X_train.columns[columns]\n",
    "selected_columns"
   ]
  },
  {
   "cell_type": "code",
   "execution_count": 13,
   "id": "f860fa92",
   "metadata": {},
   "outputs": [
    {
     "data": {
      "text/plain": [
       "16"
      ]
     },
     "execution_count": 13,
     "metadata": {},
     "output_type": "execute_result"
    }
   ],
   "source": [
    "len(selected_columns)"
   ]
  },
  {
   "cell_type": "code",
   "execution_count": 14,
   "id": "b30451af",
   "metadata": {},
   "outputs": [
    {
     "data": {
      "text/plain": [
       "16"
      ]
     },
     "execution_count": 14,
     "metadata": {},
     "output_type": "execute_result"
    }
   ],
   "source": [
    "len(selected_columns.unique())"
   ]
  },
  {
   "cell_type": "code",
   "execution_count": 12,
   "id": "264c116b",
   "metadata": {},
   "outputs": [],
   "source": [
    "features = set(trainset.columns)"
   ]
  },
  {
   "cell_type": "code",
   "execution_count": 14,
   "id": "2ef9eb53",
   "metadata": {},
   "outputs": [
    {
     "name": "stdout",
     "output_type": "stream",
     "text": [
      "14\n",
      "{'P4_HT_FD', 'P1_PCV02D', 'P1_TIT01', 'P1_B2016', 'P2_24Vdc', 'P1_B2004', 'P1_B4002', 'P1_B3005', 'P3_LCP01D', 'P2_VT01e', 'P4_ST_FD', 'P1_B3004', 'P1_PIT02', 'P1_B4005'}\n"
     ]
    }
   ],
   "source": [
    "print(len(features - corr_features))\n",
    "print(features - corr_features)"
   ]
  },
  {
   "cell_type": "code",
   "execution_count": 15,
   "id": "6c25cbb8",
   "metadata": {},
   "outputs": [],
   "source": [
    "trainset.drop(columns=corr_features,inplace=True)\n",
    "testset.drop(columns=corr_features,inplace=True)"
   ]
  },
  {
   "cell_type": "code",
   "execution_count": 21,
   "id": "19cccf3a",
   "metadata": {},
   "outputs": [
    {
     "name": "stdout",
     "output_type": "stream",
     "text": [
      "Feature 0: 104.906593\n",
      "Feature 1: 14577.049284\n",
      "Feature 2: 1134.093763\n",
      "Feature 3: 1288.663892\n",
      "Feature 4: 5026.197866\n",
      "Feature 5: 892.229308\n",
      "Feature 6: 43.282274\n",
      "Feature 7: 45.586266\n",
      "Feature 8: 4042.163860\n",
      "Feature 9: 592.119858\n",
      "Feature 10: 0.715473\n",
      "Feature 11: 765.943705\n",
      "Feature 12: 219.669412\n",
      "Feature 13: 221.534042\n",
      "Feature 14: 5646.093500\n",
      "Feature 15: 6582.463202\n"
     ]
    }
   ],
   "source": [
    "from sklearn.feature_selection import f_classif, SelectKBest\n",
    "fs = SelectKBest(score_func=f_classif, k='all')\n",
    "fs.fit(X_train, y_train)\n",
    "for i in range(len(fs.scores_)):\n",
    "    print('Feature %d: %f' % (i, fs.scores_[i]))"
   ]
  },
  {
   "cell_type": "code",
   "execution_count": 23,
   "id": "b2a02cc7",
   "metadata": {},
   "outputs": [
    {
     "data": {
      "image/png": "[encoded data removed]",
      "text/plain": [
       "<Figure size 432x288 with 1 Axes>"
      ]
     },
     "metadata": {
      "needs_background": "light"
     },
     "output_type": "display_data"
    }
   ],
   "source": [
    "from matplotlib import pyplot as plt\n",
    "plt.bar([i for i in range(len(fs.scores_))], fs.scores_)\n",
    "plt.show()"
   ]
  },
  {
   "cell_type": "code",
   "execution_count": 24,
   "id": "7d105f99",
   "metadata": {},
   "outputs": [
    {
     "data": {
      "text/plain": [
       "Index(['address', 'function', 'length', 'setpoint', 'gain', 'reset rate',\n",
       "       'deadband', 'cycle time', 'rate', 'system mode', 'control scheme',\n",
       "       'pump', 'solenoid', 'pressure measurement', 'crc rate',\n",
       "       'command respond'],\n",
       "      dtype='object')"
      ]
     },
     "execution_count": 24,
     "metadata": {},
     "output_type": "execute_result"
    }
   ],
   "source": [
    "X_train.columns"
   ]
  },
  {
   "cell_type": "code",
   "execution_count": 25,
   "id": "8c8db863",
   "metadata": {},
   "outputs": [
    {
     "name": "stdout",
     "output_type": "stream",
     "text": [
      "address\n",
      "deadband\n",
      "cycle time\n",
      "control scheme\n"
     ]
    }
   ],
   "source": [
    "drop_col_idx = [0, 6, 7, 10]\n",
    "for idx in drop_col_idx:\n",
    "    print(X_train.columns[idx])"
   ]
  }
 ],
 "metadata": {
  "kernelspec": {
   "display_name": "Python 3",
   "language": "python",
   "name": "python3"
  },
  "language_info": {
   "codemirror_mode": {
    "name": "ipython",
    "version": 3
   },
   "file_extension": ".py",
   "mimetype": "text/x-python",
   "name": "python",
   "nbconvert_exporter": "python",
   "pygments_lexer": "ipython3",
   "version": "3.7.4"
  }
 },
 "nbformat": 4,
 "nbformat_minor": 5
}
